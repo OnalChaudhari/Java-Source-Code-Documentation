{
 "cells": [
  {
   "cell_type": "code",
   "execution_count": 24,
   "metadata": {},
   "outputs": [
    {
     "name": "stdout",
     "output_type": "stream",
     "text": [
      "[['class', 'BinarySearchExample{'], ['public', 'static', 'void', 'binarySearch(', 'int', 'arr[]', ',', 'int', 'first', ',', 'int', 'last', ',', 'int', 'key', '){'], ['int', 'mid', '=', '(first', '+', 'last)/2;'], ['while(', 'first', '<=', 'last', '){'], ['if', '(', 'arr[mid]', '<', 'key', '){'], ['first', '=', 'mid', '+', '1;'], ['}', 'else', 'if', '(', 'arr[mid]', '==', 'key', '){'], ['System.out.println', '(\"Element', 'is', 'found', 'at', 'index:', '\"', '+', 'mid);'], ['break;'], ['}', 'else', '{'], ['last', '=', 'mid', '-', '1;'], ['}'], ['mid', '=', '(first', '+', 'last)/2;'], ['}'], ['if', '(', 'first', '>', 'last', ')', '{'], ['System.out.println', '(\"Element', 'is', 'not', 'found!\");'], ['}'], ['}'], ['public', 'static', 'void', 'main', '(', 'String', 'args[]', '){'], ['int', 'arr[]', '=', '{10,20,30,40,50};'], ['int', 'key', '=', '30;'], ['int', 'last', '=', 'arr.length-1;'], ['binarySearch', '(', 'arr', ',', '0', ',', 'last', ',', 'key', ');'], ['}'], ['}']]\n"
     ]
    }
   ],
   "source": [
    "import pandas as pd        \n",
    "line_dil=[]\n",
    "space=[]\n",
    "prog= open(\"program.txt\",\"r\")\n",
    "line= prog.readlines()\n",
    "for i in line:\n",
    "    line_dil.append(i) #save individual line in the line_dil\n",
    "    space.append(i.split()) #save individual words in space \n",
    "print(space)\n",
    "data=pd.read_excel(\"donemerged.xlsx\")  #import data set"
   ]
  },
  {
   "cell_type": "code",
   "execution_count": 25,
   "metadata": {},
   "outputs": [
    {
     "name": "stdout",
     "output_type": "stream",
     "text": [
      "Class               : ['BinarySearchExample', 'String']\n",
      "Key                 : ['class', 'public', 'static', 'void', 'if', 'else', 'if', 'else', 'if', 'public', 'static', 'void']\n",
      "Error               : []\n",
      "Variables           : ['arr[]', 'first', 'last', 'key', 'mid', 'arr[]', 'key', 'last']\n",
      "Predefined Variables: ['key', 'key', 'key', 'key', 'key']\n",
      "Constructor         : []\n",
      "Static Variable     : []\n",
      "INtrupt             : []\n",
      "Method              : []\n",
      "Exception           : []\n"
     ]
    }
   ],
   "source": [
    "class_=[]\n",
    "variables_=[]\n",
    "predefined_variables_=[]\n",
    "staticvariable_=[]\n",
    "method_=[]\n",
    "intrupt_=[]\n",
    "exception_=[]\n",
    "key_=[]\n",
    "error_=[]\n",
    "constructor_=[]\n",
    "for i in space:\n",
    "    for j in range (len(i)):\n",
    "        if i[j] in list(data[\"Item\"]):\n",
    "            #print(j, (data[\"Tagging\"])data[\"Item\"])\n",
    "            #print((data[\"Item\"]).index(j))\n",
    "            x=str(data[data[\"Item\"]==i[j]][\"Tagging\"])\n",
    "            #print(x.split())\n",
    "            if x.split()[-5]==\"dty\":\n",
    "                temp=(i[j]+\" \"+i[j+1] +\" --> \"+x.split()[-5])\n",
    "            else:\n",
    "                temp=(i[j]+\" --> \"+x.split()[-5])\n",
    "            #print(temp)\n",
    " \n",
    "            if temp.split()[-1] == \"dty\":  # finds data type and their equivalent variables\n",
    "                variables_.append(i[j+1])\n",
    "            elif temp.split()[-1] == \"cls\":\n",
    "                class_.append(i[j])\n",
    "            elif temp.split()[-1] == \"stv\":\n",
    "                staticvariable_.append(i[j])\n",
    "            elif temp.split()[-1] == \"mtd\":\n",
    "                method_.append(i[j])\n",
    "            elif temp.split()[-1] == \"var\":\n",
    "                predefined_variables_.append(i[j])\n",
    "            elif temp.split()[-1] == \"int\":\n",
    "                intrupt_.append(i[j])\n",
    "            elif temp.split()[-1] == \"exp\":\n",
    "                exception_.append(i[j])\n",
    "            elif temp.split()[-1] == \"key\":\n",
    "                key_.append(i[j])\n",
    "            elif temp.split()[-1] == \"err\":\n",
    "                error_.append(i[j])\n",
    "            elif temp.split()[-1] == \"con\":\n",
    "                constructor_.append(i[j])\n",
    "\n",
    "    if (\"Class\" in i or \"class\" in i):    # to define user defined class\n",
    "        class_.append((i[-1])[:-1])\n",
    "print(\"Class               :\",class_)\n",
    "print(\"Key                 :\",key_)\n",
    "print(\"Error               :\",error_)\n",
    "print(\"Variables           :\",variables_)\n",
    "print(\"Predefined Variables:\",predefined_variables_)\n",
    "print(\"Constructor         :\",constructor_)\n",
    "print(\"Static Variable     :\",staticvariable_)\n",
    "print(\"INtrupt             :\",intrupt_)\n",
    "print(\"Method              :\",method_)\n",
    "print(\"Exception           :\",exception_)"
   ]
  },
  {
   "cell_type": "code",
   "execution_count": 26,
   "metadata": {},
   "outputs": [
    {
     "name": "stdout",
     "output_type": "stream",
     "text": [
      "Class --> BinarySearchExample\n",
      "Block Started\n",
      "Block Started\n",
      "Block Started\n",
      "Block Started\n",
      "Block Started\n",
      "Block Started\n",
      "Block Started\n",
      "Class --> String\n",
      "Block Started\n",
      "Block Started\n"
     ]
    }
   ],
   "source": [
    "for i in line_dil:\n",
    "    if([ele for ele in class_ if(ele in i)==True]):\n",
    "        print(\"Class --> \"+class_[0])\n",
    "        class_.remove(class_[0])\n",
    "    if (\"{\" in i):\n",
    "       print(\"Block Started\")"
   ]
  }
 ],
 "metadata": {
  "interpreter": {
   "hash": "ad2bdc8ecc057115af97d19610ffacc2b4e99fae6737bb82f5d7fb13d2f2c186"
  },
  "kernelspec": {
   "display_name": "Python 3.9.7 ('base')",
   "language": "python",
   "name": "python3"
  },
  "language_info": {
   "codemirror_mode": {
    "name": "ipython",
    "version": 3
   },
   "file_extension": ".py",
   "mimetype": "text/x-python",
   "name": "python",
   "nbconvert_exporter": "python",
   "pygments_lexer": "ipython3",
   "version": "3.9.7"
  },
  "orig_nbformat": 4
 },
 "nbformat": 4,
 "nbformat_minor": 2
}
